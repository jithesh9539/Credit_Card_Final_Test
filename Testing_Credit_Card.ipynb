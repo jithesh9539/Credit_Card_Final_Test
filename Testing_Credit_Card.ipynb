{
  "nbformat": 4,
  "nbformat_minor": 0,
  "metadata": {
    "colab": {
      "name": "Testing_Credit_Card.ipynb",
      "provenance": [],
      "collapsed_sections": [],
      "authorship_tag": "ABX9TyPJ2U1/FxMX5J6pAh/YFdvV",
      "include_colab_link": true
    },
    "kernelspec": {
      "display_name": "Python 3",
      "name": "python3"
    },
    "language_info": {
      "name": "python"
    }
  },
  "cells": [
    {
      "cell_type": "markdown",
      "metadata": {
        "id": "view-in-github",
        "colab_type": "text"
      },
      "source": [
        "<a href=\"https://colab.research.google.com/github/jithesh9539/Credit_Card_Final_Test/blob/main/Testing_Credit_Card.ipynb\" target=\"_parent\"><img src=\"https://colab.research.google.com/assets/colab-badge.svg\" alt=\"Open In Colab\"/></a>"
      ]
    },
    {
      "cell_type": "markdown",
      "metadata": {
        "id": "KW-ciiRSFcyP"
      },
      "source": [
        "**Importing the Dependencies**"
      ]
    },
    {
      "cell_type": "code",
      "metadata": {
        "id": "QzX_mPgkfzve"
      },
      "source": [
        "import numpy as np\n",
        "import pandas as pd\n",
        "import matplotlib.pyplot as plt\n",
        "import itertools\n",
        "from sklearn.model_selection import train_test_split\n",
        "from sklearn.tree import DecisionTreeClassifier\n",
        "from sklearn.neighbors import KNeighborsClassifier\n",
        "from xgboost import XGBClassifier\n",
        "from sklearn.metrics import confusion_matrix\n",
        "from sklearn.metrics import accuracy_score\n",
        "from sklearn.metrics import f1_score \n",
        "from sklearn.preprocessing import StandardScaler\n",
        "import imblearn\n",
        "from collections import Counter"
      ],
      "execution_count": 1,
      "outputs": []
    },
    {
      "cell_type": "markdown",
      "metadata": {
        "id": "yq8s8Z-YFlxd"
      },
      "source": [
        "**Loading Dataset to Pandas DataFrame**"
      ]
    },
    {
      "cell_type": "code",
      "metadata": {
        "id": "KiqvwQkyf0cC"
      },
      "source": [
        "credit_data=pd.read_csv('/content/creditcard.csv')"
      ],
      "execution_count": 2,
      "outputs": []
    },
    {
      "cell_type": "markdown",
      "metadata": {
        "id": "kkrX_ZlFFyeP"
      },
      "source": [
        "**Below command provides the information of the dataset and could observe that there are no null values in any of the columns(Features)**"
      ]
    },
    {
      "cell_type": "code",
      "metadata": {
        "colab": {
          "base_uri": "https://localhost:8080/"
        },
        "id": "nkkF2M9NgC93",
        "outputId": "a7a1816c-06a3-4350-f6ca-52e8c3de676f"
      },
      "source": [
        "credit_data.info()"
      ],
      "execution_count": 3,
      "outputs": [
        {
          "output_type": "stream",
          "name": "stdout",
          "text": [
            "<class 'pandas.core.frame.DataFrame'>\n",
            "RangeIndex: 284807 entries, 0 to 284806\n",
            "Data columns (total 31 columns):\n",
            " #   Column  Non-Null Count   Dtype  \n",
            "---  ------  --------------   -----  \n",
            " 0   Time    284807 non-null  float64\n",
            " 1   V1      284807 non-null  float64\n",
            " 2   V2      284807 non-null  float64\n",
            " 3   V3      284807 non-null  float64\n",
            " 4   V4      284807 non-null  float64\n",
            " 5   V5      284807 non-null  float64\n",
            " 6   V6      284807 non-null  float64\n",
            " 7   V7      284807 non-null  float64\n",
            " 8   V8      284807 non-null  float64\n",
            " 9   V9      284807 non-null  float64\n",
            " 10  V10     284807 non-null  float64\n",
            " 11  V11     284807 non-null  float64\n",
            " 12  V12     284807 non-null  float64\n",
            " 13  V13     284807 non-null  float64\n",
            " 14  V14     284807 non-null  float64\n",
            " 15  V15     284807 non-null  float64\n",
            " 16  V16     284807 non-null  float64\n",
            " 17  V17     284807 non-null  float64\n",
            " 18  V18     284807 non-null  float64\n",
            " 19  V19     284807 non-null  float64\n",
            " 20  V20     284807 non-null  float64\n",
            " 21  V21     284807 non-null  float64\n",
            " 22  V22     284807 non-null  float64\n",
            " 23  V23     284807 non-null  float64\n",
            " 24  V24     284807 non-null  float64\n",
            " 25  V25     284807 non-null  float64\n",
            " 26  V26     284807 non-null  float64\n",
            " 27  V27     284807 non-null  float64\n",
            " 28  V28     284807 non-null  float64\n",
            " 29  Amount  284807 non-null  float64\n",
            " 30  Class   284807 non-null  int64  \n",
            "dtypes: float64(30), int64(1)\n",
            "memory usage: 67.4 MB\n"
          ]
        }
      ]
    },
    {
      "cell_type": "code",
      "metadata": {
        "colab": {
          "base_uri": "https://localhost:8080/"
        },
        "id": "nWx-q_P8nS-2",
        "outputId": "bd5e53bd-1ad0-4858-812c-19b80243fb94"
      },
      "source": [
        "credit_data.isnull().sum()"
      ],
      "execution_count": 4,
      "outputs": [
        {
          "output_type": "execute_result",
          "data": {
            "text/plain": [
              "Time      0\n",
              "V1        0\n",
              "V2        0\n",
              "V3        0\n",
              "V4        0\n",
              "V5        0\n",
              "V6        0\n",
              "V7        0\n",
              "V8        0\n",
              "V9        0\n",
              "V10       0\n",
              "V11       0\n",
              "V12       0\n",
              "V13       0\n",
              "V14       0\n",
              "V15       0\n",
              "V16       0\n",
              "V17       0\n",
              "V18       0\n",
              "V19       0\n",
              "V20       0\n",
              "V21       0\n",
              "V22       0\n",
              "V23       0\n",
              "V24       0\n",
              "V25       0\n",
              "V26       0\n",
              "V27       0\n",
              "V28       0\n",
              "Amount    0\n",
              "Class     0\n",
              "dtype: int64"
            ]
          },
          "metadata": {},
          "execution_count": 4
        }
      ]
    },
    {
      "cell_type": "code",
      "metadata": {
        "colab": {
          "base_uri": "https://localhost:8080/"
        },
        "id": "Sa35RabznWKW",
        "outputId": "9e5bf2f5-0d65-4abb-eebb-5e551fc19a04"
      },
      "source": [
        "credit_data['Class'].value_counts()"
      ],
      "execution_count": 5,
      "outputs": [
        {
          "output_type": "execute_result",
          "data": {
            "text/plain": [
              "0    284315\n",
              "1       492\n",
              "Name: Class, dtype: int64"
            ]
          },
          "metadata": {},
          "execution_count": 5
        }
      ]
    },
    {
      "cell_type": "code",
      "metadata": {
        "colab": {
          "base_uri": "https://localhost:8080/"
        },
        "id": "-pipFG74nr7D",
        "outputId": "efa427c6-05ec-4ef0-944b-312b34f0eee6"
      },
      "source": [
        "Fraud_Transaction=credit_data[credit_data.Class==1]\n",
        "Non_Fraud_Transaction=credit_data[credit_data.Class==0]\n",
        "print (\"Number of Fraud Transactions in the Dataset is:\",Fraud_Transaction.shape[0])\n",
        "print (\"Number of Non Fraud Transactions in the Dataset is:\",Non_Fraud_Transaction.shape[0])"
      ],
      "execution_count": 6,
      "outputs": [
        {
          "output_type": "stream",
          "name": "stdout",
          "text": [
            "Number of Fraud Transactions in the Dataset is: 492\n",
            "Number of Non Fraud Transactions in the Dataset is: 284315\n"
          ]
        }
      ]
    },
    {
      "cell_type": "markdown",
      "metadata": {
        "id": "llsoe2rdGQez"
      },
      "source": [
        ""
      ]
    },
    {
      "cell_type": "markdown",
      "metadata": {
        "id": "do2G53SSGnd2"
      },
      "source": [
        "**Scaling the amount to be in the range between [-1,1]**"
      ]
    },
    {
      "cell_type": "code",
      "metadata": {
        "id": "ozYUiy00nuLQ"
      },
      "source": [
        "std_scaler=StandardScaler()\n",
        "credit_data['Amount'] = std_scaler.fit_transform(credit_data['Amount'].values.reshape(-1,1))"
      ],
      "execution_count": 7,
      "outputs": []
    },
    {
      "cell_type": "code",
      "metadata": {
        "id": "TP44pX89nzLl"
      },
      "source": [
        "X = credit_data.drop(columns = ['Class','Time'])\n",
        "y = credit_data['Class']"
      ],
      "execution_count": 8,
      "outputs": []
    },
    {
      "cell_type": "markdown",
      "metadata": {
        "id": "AjAvgwcvGx08"
      },
      "source": [
        "**Splitting the data into train and test dataset (70% Training Dataset,30% Test Dataset)**"
      ]
    },
    {
      "cell_type": "code",
      "metadata": {
        "id": "btYKEu1xn1qJ"
      },
      "source": [
        "X_train,X_test,y_train,y_test=train_test_split(X,y,test_size=0.3,stratify=y,random_state=42)"
      ],
      "execution_count": 9,
      "outputs": []
    },
    {
      "cell_type": "code",
      "metadata": {
        "colab": {
          "base_uri": "https://localhost:8080/"
        },
        "id": "4NpWt766n3lW",
        "outputId": "949a3609-dad9-4ff8-d79b-2c23b9c2145f"
      },
      "source": [
        "X_train.shape"
      ],
      "execution_count": 10,
      "outputs": [
        {
          "output_type": "execute_result",
          "data": {
            "text/plain": [
              "(199364, 29)"
            ]
          },
          "metadata": {},
          "execution_count": 10
        }
      ]
    },
    {
      "cell_type": "code",
      "metadata": {
        "colab": {
          "base_uri": "https://localhost:8080/"
        },
        "id": "4c7XpRuMG6J_",
        "outputId": "b6326bcf-941c-4ac9-c072-fbba82bd8b23"
      },
      "source": [
        "X_test.shape"
      ],
      "execution_count": 11,
      "outputs": [
        {
          "output_type": "execute_result",
          "data": {
            "text/plain": [
              "(85443, 29)"
            ]
          },
          "metadata": {},
          "execution_count": 11
        }
      ]
    },
    {
      "cell_type": "markdown",
      "metadata": {
        "id": "oKjaZohtHRBj"
      },
      "source": [
        "**Created a function to transform the data by using Smotek Technique**"
      ]
    },
    {
      "cell_type": "code",
      "metadata": {
        "id": "5ShAoj9CBdwq"
      },
      "source": [
        "def transform(transformer,X,y):\n",
        "    print(\"Transforming {}\".format(transformer.__class__.__name__))\n",
        "    X_resampled,y_resampled = transformer.fit_resample(X.values,y.values.ravel())\n",
        "    return transformer.__class__.__name__,pd.DataFrame(X_resampled), pd.DataFrame(y_resampled)"
      ],
      "execution_count": 12,
      "outputs": []
    },
    {
      "cell_type": "code",
      "metadata": {
        "colab": {
          "base_uri": "https://localhost:8080/"
        },
        "id": "C-Dyf0ozBcAC",
        "outputId": "3ebf9bb8-b017-422e-e4cf-1ba979923eac"
      },
      "source": [
        "set=[]\n",
        "set.append(transform(imblearn.combine.SMOTETomek(),X_train,y_train))"
      ],
      "execution_count": 13,
      "outputs": [
        {
          "output_type": "stream",
          "name": "stdout",
          "text": [
            "Transforming SMOTETomek\n"
          ]
        }
      ]
    },
    {
      "cell_type": "markdown",
      "metadata": {
        "id": "g3jALjhQIKWr"
      },
      "source": [
        "**Modelling Using Decision Tree, KNN and XG Boost**"
      ]
    },
    {
      "cell_type": "code",
      "metadata": {
        "id": "wamGK6EC-Bpz"
      },
      "source": [
        "# 1. Decision Tree\n",
        "\n",
        "tree_model = DecisionTreeClassifier(max_depth = 4, criterion = 'entropy')\n",
        "tree_model.fit(X_train, y_train)\n",
        "tree_yhat = tree_model.predict(X_test)\n"
      ],
      "execution_count": 14,
      "outputs": []
    },
    {
      "cell_type": "code",
      "metadata": {
        "id": "DnWlnLv_-Cep"
      },
      "source": [
        "# 2. KNN (K-Nearest Neighbors)\n",
        "\n",
        "knn = KNeighborsClassifier(n_neighbors = 5)\n",
        "knn.fit(X_train, y_train)\n",
        "knn_yhat = knn.predict(X_test)\n"
      ],
      "execution_count": 15,
      "outputs": []
    },
    {
      "cell_type": "code",
      "metadata": {
        "id": "mlc-VmD7zJId"
      },
      "source": [
        "# 3. XGBoost\n",
        "\n",
        "xgb = XGBClassifier(max_depth = 4)\n",
        "xgb.fit(X_train, y_train)\n",
        "xgb_yhat = xgb.predict(X_test)"
      ],
      "execution_count": 16,
      "outputs": []
    },
    {
      "cell_type": "code",
      "metadata": {
        "colab": {
          "base_uri": "https://localhost:8080/"
        },
        "id": "rQFILPifDPKO",
        "outputId": "d0bb4758-c977-4718-ce8b-56f460d872b1"
      },
      "source": [
        "print('F1 score of the Decision Tree model is {}'.format(f1_score(y_test, tree_yhat)))\n",
        "print('F1 score of the KNN model is {}'.format(f1_score(y_test, knn_yhat)))\n",
        "\n",
        "print('F1 score of the XGBoost model is {}'.format(f1_score(y_test, xgb_yhat)))"
      ],
      "execution_count": 17,
      "outputs": [
        {
          "output_type": "stream",
          "name": "stdout",
          "text": [
            "F1 score of the Decision Tree model is 0.7956989247311828\n",
            "F1 score of the KNN model is 0.8134328358208955\n",
            "F1 score of the XGBoost model is 0.8455882352941175\n"
          ]
        }
      ]
    },
    {
      "cell_type": "code",
      "metadata": {
        "id": "ogTnhX_EDkbm"
      },
      "source": [
        "def plot_confusion_matrix(cm, classes, title, normalize = False, cmap = plt.cm.Blues):\n",
        "    title = 'Confusion Matrix of {}'.format(title)\n",
        "    if normalize:\n",
        "        cm = cm.astype(float) / cm.sum(axis=1)[:, np.newaxis]\n",
        "\n",
        "    plt.imshow(cm, interpolation = 'nearest', cmap = cmap)\n",
        "    plt.title(title)\n",
        "    plt.colorbar()\n",
        "    tick_marks = np.arange(len(classes))\n",
        "    plt.xticks(tick_marks, classes, rotation = 45)\n",
        "    plt.yticks(tick_marks, classes)\n",
        "\n",
        "    fmt = '.2f' if normalize else 'd'\n",
        "    thresh = cm.max() / 2.\n",
        "    for i, j in itertools.product(range(cm.shape[0]), range(cm.shape[1])):\n",
        "        plt.text(j, i, format(cm[i, j], fmt),\n",
        "                 horizontalalignment = 'center',\n",
        "                 color = 'white' if cm[i, j] > thresh else 'black')\n",
        "\n",
        "    plt.tight_layout()\n",
        "    plt.ylabel('True label')\n",
        "    plt.xlabel('Predicted label')"
      ],
      "execution_count": 18,
      "outputs": []
    },
    {
      "cell_type": "code",
      "metadata": {
        "id": "MbmgQ1VDE0nw"
      },
      "source": [
        "# Compute confusion matrix for the models\n",
        "tree_matrix = confusion_matrix(y_test, tree_yhat, labels = [0, 1]) # Decision Tree\n",
        "knn_matrix = confusion_matrix(y_test, knn_yhat, labels = [0, 1]) # K-Nearest Neighbors\n",
        "xgb_matrix = confusion_matrix(y_test, xgb_yhat, labels = [0, 1]) # XGBoost"
      ],
      "execution_count": 19,
      "outputs": []
    },
    {
      "cell_type": "code",
      "metadata": {
        "id": "Z-KNyDbSEJhS"
      },
      "source": [
        "# Plot the confusion matrix\n",
        "\n",
        "plt.rcParams['figure.figsize'] = (8, 8)"
      ],
      "execution_count": 20,
      "outputs": []
    },
    {
      "cell_type": "code",
      "metadata": {
        "colab": {
          "base_uri": "https://localhost:8080/",
          "height": 564
        },
        "id": "XqmGkE5FEQJa",
        "outputId": "b55a51c1-4485-4ce1-da8f-06e09f039850"
      },
      "source": [
        "# 1. Decision tree\n",
        "\n",
        "tree_cm_plot = plot_confusion_matrix(tree_matrix, \n",
        "                                classes = ['Non-Default(0)','Default(1)'], \n",
        "                                normalize = False, title = 'Decision Tree')\n",
        "plt.savefig('tree_cm_plot.png')\n",
        "plt.show()"
      ],
      "execution_count": 21,
      "outputs": [
        {
          "output_type": "display_data",
          "data": {
            "image/png": "[encoded data removed]",
            "text/plain": [
              "<Figure size 576x576 with 2 Axes>"
            ]
          },
          "metadata": {
            "needs_background": "light"
          }
        }
      ]
    },
    {
      "cell_type": "code",
      "metadata": {
        "colab": {
          "base_uri": "https://localhost:8080/",
          "height": 564
        },
        "id": "MLlsslHVEUuT",
        "outputId": "49c2af1a-811d-4e06-dd45-59d865f54c5d"
      },
      "source": [
        "# 2. K-Nearest Neighbors\n",
        "\n",
        "knn_cm_plot = plot_confusion_matrix(knn_matrix, \n",
        "                                classes = ['Non-Default(0)','Default(1)'], \n",
        "                                normalize = False, title = 'KNN')\n",
        "plt.savefig('knn_cm_plot.png')\n",
        "plt.show()"
      ],
      "execution_count": 22,
      "outputs": [
        {
          "output_type": "display_data",
          "data": {
            "image/png": "[encoded data removed]",
            "text/plain": [
              "<Figure size 576x576 with 2 Axes>"
            ]
          },
          "metadata": {
            "needs_background": "light"
          }
        }
      ]
    },
    {
      "cell_type": "code",
      "metadata": {
        "colab": {
          "base_uri": "https://localhost:8080/",
          "height": 564
        },
        "id": "eFtMIWshEb3y",
        "outputId": "3f055714-356e-4fcc-e712-8e9d84a23d5c"
      },
      "source": [
        "#3 XGBoost\n",
        "\n",
        "xgb_cm_plot = plot_confusion_matrix(xgb_matrix, \n",
        "                                classes = ['Non-Default(0)','Default(1)'], \n",
        "                                normalize = False, title = 'XGBoost')\n",
        "plt.savefig('xgb_cm_plot.png')\n",
        "plt.show()"
      ],
      "execution_count": 23,
      "outputs": [
        {
          "output_type": "display_data",
          "data": {
            "image/png": "[encoded data removed]",
            "text/plain": [
              "<Figure size 576x576 with 2 Axes>"
            ]
          },
          "metadata": {
            "needs_background": "light"
          }
        }
      ]
    },
    {
      "cell_type": "code",
      "metadata": {
        "id": "oO0biyo_EiYq"
      },
      "source": [
        "import pickle\n",
        "pickle.dump(xgb, open('xgg_model.pkl','wb'))\n",
        "pickle.dump(knn, open('knn_model.pkl','wb'))\n",
        "pickle.dump(tree_model, open('tree_model.pkl','wb'))"
      ],
      "execution_count": 24,
      "outputs": []
    }
  ]
}